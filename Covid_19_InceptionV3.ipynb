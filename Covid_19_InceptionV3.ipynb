{
  "nbformat": 4,
  "nbformat_minor": 0,
  "metadata": {
    "colab": {
      "name": "Covid-19.ipynb",
      "provenance": [],
      "collapsed_sections": [],
      "include_colab_link": true
    },
    "kernelspec": {
      "name": "python3",
      "display_name": "Python 3"
    },
    "accelerator": "GPU"
  },
  "cells": [
    {
      "cell_type": "markdown",
      "metadata": {
        "id": "view-in-github",
        "colab_type": "text"
      },
      "source": [
        "<a href=\"https://colab.research.google.com/github/rboghe/YACD-YetAnotherCovid19Detector/blob/master/Covid_19_InceptionV3.ipynb\" target=\"_parent\"><img src=\"https://colab.research.google.com/assets/colab-badge.svg\" alt=\"Open In Colab\"/></a>"
      ]
    },
    {
      "cell_type": "markdown",
      "metadata": {
        "id": "R8ZU0VH-Cqqr",
        "colab_type": "text"
      },
      "source": [
        "Disclaimer: this notebook is intended for educational purposes only. Do **NOT** attempt to use it as a diagnostic tool. Furthermore, with only 180 available images, the results do **NOT** constitute a scientific evidence that AI is capable of detecting Covid-19 with an acceptable degree of accuracy."
      ]
    },
    {
      "cell_type": "markdown",
      "metadata": {
        "id": "JB7-GoB1Tdqo",
        "colab_type": "text"
      },
      "source": [
        ""
      ]
    },
    {
      "cell_type": "markdown",
      "metadata": {
        "id": "fhpSxbhPtrHe",
        "colab_type": "text"
      },
      "source": [
        "Severe acute respiratory syndrome coronavirus 2 (SARS-CoV-2) has caused a large global outbreak and is a major public health issue. In this notebook we will explore the feasibility of using AI-based solutions to detect the presence of the virus in patients through chest x-rays. The images are taken from [[1]](https://github.com/ieee8023/covid-chestxray-dataset) and [[2]](https://www.kaggle.com/paultimothymooney/chest-xray-pneumonia/) and stored on my [GitHub](https://github.com/rboghe/Covid-19). For a faster execution enable GPU usage (if you're using Colab, just click on Runtime -> Change Runtime Type and select GPU under Hardware Accelerator)."
      ]
    },
    {
      "cell_type": "markdown",
      "metadata": {
        "id": "oCSH3Ir8x0oh",
        "colab_type": "text"
      },
      "source": [
        "First, let's import the necessary libraries:"
      ]
    },
    {
      "cell_type": "code",
      "metadata": {
        "id": "IyPfeCFJmiR2",
        "colab_type": "code",
        "colab": {}
      },
      "source": [
        "%tensorflow_version 2.x\n",
        "\n",
        "import os\n",
        "import io\n",
        "import requests\n",
        "import shutil\n",
        "import zipfile\n",
        "import random\n",
        "import math\n",
        "import numpy as np\n",
        "import tensorflow as tf\n",
        "from tensorflow.keras.preprocessing.image import ImageDataGenerator\n",
        "from tensorflow.keras.applications.inception_v3 import InceptionV3\n",
        "from PIL import Image\n",
        "import matplotlib.pyplot as plt"
      ],
      "execution_count": 0,
      "outputs": []
    },
    {
      "cell_type": "markdown",
      "metadata": {
        "id": "fDPu0FxMx7Jz",
        "colab_type": "text"
      },
      "source": [
        "Clearing the tensorflow session erases all the nodes left from previous models that could impact our training:"
      ]
    },
    {
      "cell_type": "code",
      "metadata": {
        "id": "u2SJilXwqaWi",
        "colab_type": "code",
        "colab": {}
      },
      "source": [
        "tf.keras.backend.clear_session()"
      ],
      "execution_count": 0,
      "outputs": []
    },
    {
      "cell_type": "markdown",
      "metadata": {
        "id": "ZPiBUM_s0Hin",
        "colab_type": "text"
      },
      "source": [
        "The images are stored in two zip files on my GitHub. The following code retrieves and extracts the files:"
      ]
    },
    {
      "cell_type": "code",
      "metadata": {
        "id": "wAJgb2ocYM5e",
        "colab_type": "code",
        "colab": {}
      },
      "source": [
        "try:\n",
        "  shutil.rmtree('/tmp')\n",
        "except:\n",
        "  pass\n",
        "\n",
        "path_covid = 'https://github.com/rboghe/CovidLambda/blob/master/covid.zip?raw=true'\n",
        "path_notcovid = 'https://github.com/rboghe/CovidLambda/blob/master/not_covid.zip?raw=true'\n",
        "\n",
        "# Get positive xrays\n",
        "req = requests.get(path_covid)\n",
        "zip_ref = zipfile.ZipFile(io.BytesIO(req.content))\n",
        "zip_ref.extractall('/tmp')\n",
        "zip_ref.close()\n",
        "\n",
        "# Get negative xrays\n",
        "req_not = requests.get(path_notcovid)\n",
        "zip_ref_not = zipfile.ZipFile(io.BytesIO(req_not.content))\n",
        "zip_ref_not.extractall('/tmp')\n",
        "zip_ref_not.close()"
      ],
      "execution_count": 0,
      "outputs": []
    },
    {
      "cell_type": "markdown",
      "metadata": {
        "id": "mQfKqygn0ydJ",
        "colab_type": "text"
      },
      "source": [
        "Let's check if the images have been correctly stored:"
      ]
    },
    {
      "cell_type": "code",
      "metadata": {
        "id": "6TJyDqTBfXnc",
        "colab_type": "code",
        "outputId": "22ddbf2a-6b52-45c8-daa0-81e2924d426e",
        "colab": {
          "base_uri": "https://localhost:8080/",
          "height": 52
        }
      },
      "source": [
        "# Check if everything went well\n",
        "print('Positive samples are', len(os.listdir('/tmp/covid/'))) # Should be 72\n",
        "print('Negative samples are',len(os.listdir('/tmp/not_covid/'))) # Should be 88"
      ],
      "execution_count": 4,
      "outputs": [
        {
          "output_type": "stream",
          "text": [
            "Positive samples are 72\n",
            "Negative samples are 88\n"
          ],
          "name": "stdout"
        }
      ]
    },
    {
      "cell_type": "markdown",
      "metadata": {
        "id": "Dl2YjMqp1A3t",
        "colab_type": "text"
      },
      "source": [
        "The images have different dimensions, aspect ratios and color spaces, but the neural network will need equally shaped inputs. We can load them in grayscale:"
      ]
    },
    {
      "cell_type": "code",
      "metadata": {
        "id": "Wy7s3sJzWFD_",
        "colab_type": "code",
        "colab": {}
      },
      "source": [
        "covid = []\n",
        "not_covid = []\n",
        "\n",
        "for filename in os.listdir('/tmp/covid/'):\n",
        "    img_path = os.path.join('/tmp/covid/', filename)\n",
        "    image = tf.keras.preprocessing.image.load_img(img_path, color_mode=\"rgb\")\n",
        "    covid.append(image)\n",
        "  \n",
        "for filename in os.listdir('/tmp/not_covid/'):\n",
        "    img_path = os.path.join('/tmp/not_covid/', filename)\n",
        "    image = tf.keras.preprocessing.image.load_img(img_path, color_mode=\"rgb\")\n",
        "    not_covid.append(image)"
      ],
      "execution_count": 0,
      "outputs": []
    },
    {
      "cell_type": "markdown",
      "metadata": {
        "id": "v8hC-6km8-ct",
        "colab_type": "text"
      },
      "source": [
        "Let's plot a random image to see how it looks before the next step:"
      ]
    },
    {
      "cell_type": "code",
      "metadata": {
        "id": "mfuJt5nWZ_BA",
        "colab_type": "code",
        "outputId": "190810de-cc00-4989-ab99-b845cb99bd61",
        "colab": {
          "base_uri": "https://localhost:8080/",
          "height": 269
        }
      },
      "source": [
        "random_n = random.randint(1,len(covid)-1) \n",
        "image = covid[random_n]\n",
        "plt.imshow(image)\n",
        "plt.show()"
      ],
      "execution_count": 6,
      "outputs": [
        {
          "output_type": "display_data",
          "data": {
            "image/png": "[encoded data removed]",
            "text/plain": [
              "<Figure size 432x288 with 1 Axes>"
            ]
          },
          "metadata": {
            "tags": []
          }
        }
      ]
    },
    {
      "cell_type": "markdown",
      "metadata": {
        "id": "CcsTQYJn_ImA",
        "colab_type": "text"
      },
      "source": [
        "The next block will resize all the images to fixed width and height while keeping their original aspect ratio:"
      ]
    },
    {
      "cell_type": "code",
      "metadata": {
        "id": "2wht3RYzV3ea",
        "colab_type": "code",
        "colab": {}
      },
      "source": [
        "# Resize images\n",
        "def reshape_image(image, new_size=(150,150)):\n",
        "    background = Image.new('RGB', new_size, \"black\")\n",
        "    image.thumbnail(new_size)\n",
        "    (w, h) = image.size\n",
        "    background.paste(image, ((new_size[0] - w) // 2, (new_size[1] - h) // 2 ))\n",
        "    return background\n",
        "\n",
        "height = 400\n",
        "width = 400\n",
        "\n",
        "target_size = (width, height)\n",
        "\n",
        "covid = [reshape_image(x, new_size=target_size) for x in covid]\n",
        "not_covid = [reshape_image(x, new_size=target_size) for x in not_covid]"
      ],
      "execution_count": 0,
      "outputs": []
    },
    {
      "cell_type": "markdown",
      "metadata": {
        "id": "M9KkyQsV_pbd",
        "colab_type": "text"
      },
      "source": [
        "Let's see how the previous image was transformed:"
      ]
    },
    {
      "cell_type": "code",
      "metadata": {
        "id": "tEZEtx5ibTXH",
        "colab_type": "code",
        "outputId": "ee595ea7-26fc-4ae5-8db3-27ed42411f77",
        "colab": {
          "base_uri": "https://localhost:8080/",
          "height": 269
        }
      },
      "source": [
        "image = covid[random_n]\n",
        "plt.imshow(image)\n",
        "plt.show()"
      ],
      "execution_count": 8,
      "outputs": [
        {
          "output_type": "display_data",
          "data": {
            "image/png": "[encoded data removed]",
            "text/plain": [
              "<Figure size 432x288 with 1 Axes>"
            ]
          },
          "metadata": {
            "tags": []
          }
        }
      ]
    },
    {
      "cell_type": "markdown",
      "metadata": {
        "id": "h-FcIgjj_8mk",
        "colab_type": "text"
      },
      "source": [
        "Now that all the images have been preprocessed, it's time to randomly split the data: we'll create a training and a validation set, while keeping some images for testing the model."
      ]
    },
    {
      "cell_type": "code",
      "metadata": {
        "id": "RUjUGI_fcR-b",
        "colab_type": "code",
        "outputId": "45865b74-5ad8-4463-fb06-770eaf104663",
        "colab": {
          "base_uri": "https://localhost:8080/",
          "height": 124
        }
      },
      "source": [
        "def split_data(source_0, source_1, split_size=[.8, .1]):\n",
        "    if split_size[0] + split_size[1] > 1:\n",
        "      print('Please, check your split size')\n",
        "      raise SystemExit\n",
        "    X_train = []\n",
        "    y_train = []\n",
        "    X_val = []\n",
        "    y_val = []\n",
        "    random.shuffle(source_0)\n",
        "    test_split_0 = int(len(source_0)*split_size[0])\n",
        "    val_split_0 = int(len(source_0)*split_size[1])\n",
        "    for _ in range(test_split_0):\n",
        "      X_train.append(source_0.pop(0))\n",
        "      y_train.append(0)\n",
        "    for _ in range(val_split_0):\n",
        "      X_val.append(source_0.pop(0))\n",
        "      y_val.append(0)\n",
        "    random.shuffle(source_1)\n",
        "    test_split_1 = int(len(source_1)*split_size[0])\n",
        "    val_split_1 = int(len(source_1)*split_size[1])\n",
        "    for _ in range(test_split_1):\n",
        "      X_train.append(source_1.pop(0))\n",
        "      y_train.append(1)\n",
        "    for _ in range(val_split_1):\n",
        "      X_val.append(source_1.pop(0))\n",
        "      y_val.append(1)\n",
        "    return X_train, y_train, X_val, y_val\n",
        "\n",
        "X_train, y_train, X_val, y_val = split_data(not_covid, covid, split_size=[.806,.111])\n",
        "    \n",
        "\n",
        "print('There are {} samples in X_train'.format(len(X_train))) # Should be 128\n",
        "print('There are {} labels in y_train'.format(len(y_train))) # Should be 128\n",
        "print('There are {} samples in X_val'.format(len(X_val))) # Should be 16\n",
        "print('There are {} labels in y_val'.format(len(y_val))) # Should be 16\n",
        "print('There are {} positive samples left for testing'.format(len(covid))) # Should be 7\n",
        "print('There are {} negative samples left for testing'.format(len(not_covid))) # Should be 9"
      ],
      "execution_count": 9,
      "outputs": [
        {
          "output_type": "stream",
          "text": [
            "There are 128 samples in X_train\n",
            "There are 128 labels in y_train\n",
            "There are 16 samples in X_val\n",
            "There are 16 labels in y_val\n",
            "There are 7 positive samples left for testing\n",
            "There are 9 negative samples left for testing\n"
          ],
          "name": "stdout"
        }
      ]
    },
    {
      "cell_type": "code",
      "metadata": {
        "id": "sjExEphUAUsw",
        "colab_type": "code",
        "colab": {}
      },
      "source": [
        "# Shuffle train samples\n",
        "c = list(zip(X_train, y_train))\n",
        "random.shuffle(c)\n",
        "X_train, y_train = zip(*c)\n",
        "# Shuffle val samples\n",
        "c = list(zip(X_val, y_val))\n",
        "random.shuffle(c)\n",
        "X_val, y_val = zip(*c)"
      ],
      "execution_count": 0,
      "outputs": []
    },
    {
      "cell_type": "code",
      "metadata": {
        "id": "HufOT6MnBNgV",
        "colab_type": "code",
        "colab": {}
      },
      "source": [
        "# Convert images into numpy arrays\n",
        "X_train = [tf.keras.preprocessing.image.img_to_array(x) for x in X_train]\n",
        "X_val = [tf.keras.preprocessing.image.img_to_array(x) for x in X_val]\n",
        "X_train = np.asarray(X_train)\n",
        "X_val = np.asarray(X_val)\n",
        "\n",
        "# Store labels into arrays\n",
        "y_train = np.asarray(y_train)\n",
        "y_val = np.asarray(y_val)"
      ],
      "execution_count": 0,
      "outputs": []
    },
    {
      "cell_type": "markdown",
      "metadata": {
        "id": "JyqdS3PZBeet",
        "colab_type": "text"
      },
      "source": [
        "It's time to build the model. We'll use ImageDataGenerator to augment the training data:"
      ]
    },
    {
      "cell_type": "code",
      "metadata": {
        "colab_type": "code",
        "id": "H321dmlfkUuJ",
        "colab": {}
      },
      "source": [
        "# Prepare train data\n",
        "batch_size = 64\n",
        "val_batch_size = 16\n",
        "\n",
        "train_datagen = ImageDataGenerator(rescale = 1/255,rotation_range=0, width_shift_range=0.0,\n",
        "    height_shift_range=0.0,  shear_range=0.0, zoom_range=0.1, fill_mode='nearest')\n",
        "\n",
        "train_generator = train_datagen.flow(X_train, y_train, batch_size=batch_size)\n",
        "\n",
        "# Prepare val data\n",
        "val_datagen = ImageDataGenerator(rescale = 1/255)\n",
        "val_generator = val_datagen.flow(X_val, y_val, batch_size = val_batch_size)\n",
        "\n",
        "# create the base pre-trained model\n",
        "base_model = InceptionV3(weights='imagenet', include_top=False)\n",
        "\n",
        "for layer in base_model.layers:\n",
        "   layer.trainable = False\n",
        "\n",
        "# Build model\n",
        "x = base_model.output\n",
        "x = tf.keras.layers.GlobalAveragePooling2D()(x)\n",
        "x = tf.keras.layers.Dense(32, activation='relu')(x)\n",
        "prediction = tf.keras.layers.Dense(1, activation='sigmoid')(x)\n",
        "\n",
        "# this is the model we will train\n",
        "model = tf.keras.models.Model(inputs=base_model.input, outputs=prediction)"
      ],
      "execution_count": 0,
      "outputs": []
    },
    {
      "cell_type": "code",
      "metadata": {
        "id": "GV7WbIhvDBAu",
        "colab_type": "code",
        "colab": {}
      },
      "source": [
        "# model.summary()"
      ],
      "execution_count": 0,
      "outputs": []
    },
    {
      "cell_type": "code",
      "metadata": {
        "id": "U6Y7F-sBDGU5",
        "colab_type": "code",
        "outputId": "1cd5592a-5669-4a4a-8a9a-6caf41245a5f",
        "colab": {
          "base_uri": "https://localhost:8080/",
          "height": 1000
        }
      },
      "source": [
        "model.compile(optimizer = tf.keras.optimizers.Adam(lr=1e-04), \n",
        "              loss='binary_crossentropy', \n",
        "              metrics=['acc'])\n",
        "\n",
        "history = model.fit(train_generator,\n",
        "                    epochs = 50,\n",
        "                    steps_per_epoch=len(X_train)/batch_size,\n",
        "                    validation_data=val_generator,\n",
        "                    validation_steps=len(X_val)/val_batch_size)"
      ],
      "execution_count": 32,
      "outputs": [
        {
          "output_type": "stream",
          "text": [
            "WARNING:tensorflow:From <ipython-input-32-90032c9b9112>:9: Model.fit_generator (from tensorflow.python.keras.engine.training) is deprecated and will be removed in a future version.\n",
            "Instructions for updating:\n",
            "Please use Model.fit, which supports generators.\n",
            "Epoch 1/80\n",
            "2/2 [==============================] - 3s 2s/step - loss: 0.1088 - acc: 0.9922 - val_loss: 0.1240 - val_acc: 1.0000\n",
            "Epoch 2/80\n",
            "2/2 [==============================] - 2s 990ms/step - loss: 0.0896 - acc: 1.0000 - val_loss: 0.1205 - val_acc: 1.0000\n",
            "Epoch 3/80\n",
            "2/2 [==============================] - 2s 1s/step - loss: 0.0994 - acc: 1.0000 - val_loss: 0.1180 - val_acc: 1.0000\n",
            "Epoch 4/80\n",
            "2/2 [==============================] - 2s 1s/step - loss: 0.0879 - acc: 0.9922 - val_loss: 0.1174 - val_acc: 1.0000\n",
            "Epoch 5/80\n",
            "2/2 [==============================] - 2s 1s/step - loss: 0.1172 - acc: 0.9688 - val_loss: 0.1146 - val_acc: 1.0000\n",
            "Epoch 6/80\n",
            "2/2 [==============================] - 2s 994ms/step - loss: 0.0932 - acc: 0.9922 - val_loss: 0.1114 - val_acc: 1.0000\n",
            "Epoch 7/80\n",
            "2/2 [==============================] - 2s 1s/step - loss: 0.0860 - acc: 0.9922 - val_loss: 0.1092 - val_acc: 1.0000\n",
            "Epoch 8/80\n",
            "2/2 [==============================] - 2s 983ms/step - loss: 0.1006 - acc: 0.9844 - val_loss: 0.1072 - val_acc: 1.0000\n",
            "Epoch 9/80\n",
            "2/2 [==============================] - 2s 968ms/step - loss: 0.0779 - acc: 1.0000 - val_loss: 0.1052 - val_acc: 1.0000\n",
            "Epoch 10/80\n",
            "2/2 [==============================] - 2s 985ms/step - loss: 0.0733 - acc: 1.0000 - val_loss: 0.1033 - val_acc: 1.0000\n",
            "Epoch 11/80\n",
            "2/2 [==============================] - 2s 1s/step - loss: 0.1014 - acc: 0.9688 - val_loss: 0.1012 - val_acc: 1.0000\n",
            "Epoch 12/80\n",
            "2/2 [==============================] - 2s 1s/step - loss: 0.0684 - acc: 1.0000 - val_loss: 0.0992 - val_acc: 1.0000\n",
            "Epoch 13/80\n",
            "2/2 [==============================] - 2s 1s/step - loss: 0.0984 - acc: 0.9922 - val_loss: 0.0972 - val_acc: 1.0000\n",
            "Epoch 14/80\n",
            "2/2 [==============================] - 2s 990ms/step - loss: 0.0707 - acc: 0.9844 - val_loss: 0.0952 - val_acc: 1.0000\n",
            "Epoch 15/80\n",
            "2/2 [==============================] - 2s 1s/step - loss: 0.0909 - acc: 0.9922 - val_loss: 0.0934 - val_acc: 1.0000\n",
            "Epoch 16/80\n",
            "2/2 [==============================] - 2s 990ms/step - loss: 0.0758 - acc: 1.0000 - val_loss: 0.0917 - val_acc: 1.0000\n",
            "Epoch 17/80\n",
            "2/2 [==============================] - 2s 983ms/step - loss: 0.0734 - acc: 0.9922 - val_loss: 0.0899 - val_acc: 1.0000\n",
            "Epoch 18/80\n",
            "2/2 [==============================] - 2s 999ms/step - loss: 0.0822 - acc: 0.9844 - val_loss: 0.0881 - val_acc: 1.0000\n",
            "Epoch 19/80\n",
            "2/2 [==============================] - 2s 997ms/step - loss: 0.0768 - acc: 0.9922 - val_loss: 0.0866 - val_acc: 1.0000\n",
            "Epoch 20/80\n",
            "2/2 [==============================] - 2s 990ms/step - loss: 0.0690 - acc: 1.0000 - val_loss: 0.0851 - val_acc: 1.0000\n",
            "Epoch 21/80\n",
            "2/2 [==============================] - 2s 1s/step - loss: 0.0672 - acc: 1.0000 - val_loss: 0.0836 - val_acc: 1.0000\n",
            "Epoch 22/80\n",
            "2/2 [==============================] - 2s 976ms/step - loss: 0.0691 - acc: 0.9922 - val_loss: 0.0818 - val_acc: 1.0000\n",
            "Epoch 23/80\n",
            "2/2 [==============================] - 2s 1s/step - loss: 0.0747 - acc: 0.9922 - val_loss: 0.0802 - val_acc: 1.0000\n",
            "Epoch 24/80\n",
            "2/2 [==============================] - 2s 991ms/step - loss: 0.0666 - acc: 1.0000 - val_loss: 0.0787 - val_acc: 1.0000\n",
            "Epoch 25/80\n",
            "2/2 [==============================] - 2s 996ms/step - loss: 0.0655 - acc: 0.9922 - val_loss: 0.0773 - val_acc: 1.0000\n",
            "Epoch 26/80\n",
            "2/2 [==============================] - 2s 993ms/step - loss: 0.0680 - acc: 1.0000 - val_loss: 0.0759 - val_acc: 1.0000\n",
            "Epoch 27/80\n",
            "2/2 [==============================] - 2s 981ms/step - loss: 0.0671 - acc: 0.9844 - val_loss: 0.0747 - val_acc: 1.0000\n",
            "Epoch 28/80\n",
            "2/2 [==============================] - 2s 999ms/step - loss: 0.0618 - acc: 1.0000 - val_loss: 0.0734 - val_acc: 1.0000\n",
            "Epoch 29/80\n",
            "2/2 [==============================] - 2s 984ms/step - loss: 0.0524 - acc: 1.0000 - val_loss: 0.0720 - val_acc: 1.0000\n",
            "Epoch 30/80\n",
            "2/2 [==============================] - 2s 991ms/step - loss: 0.0562 - acc: 1.0000 - val_loss: 0.0708 - val_acc: 1.0000\n",
            "Epoch 31/80\n",
            "2/2 [==============================] - 2s 1s/step - loss: 0.0553 - acc: 1.0000 - val_loss: 0.0697 - val_acc: 1.0000\n",
            "Epoch 32/80\n",
            "2/2 [==============================] - 2s 994ms/step - loss: 0.0656 - acc: 1.0000 - val_loss: 0.0686 - val_acc: 1.0000\n",
            "Epoch 33/80\n",
            "2/2 [==============================] - 2s 1s/step - loss: 0.0466 - acc: 1.0000 - val_loss: 0.0675 - val_acc: 1.0000\n",
            "Epoch 34/80\n",
            "2/2 [==============================] - 2s 999ms/step - loss: 0.0511 - acc: 0.9922 - val_loss: 0.0666 - val_acc: 1.0000\n",
            "Epoch 35/80\n",
            "2/2 [==============================] - 2s 1s/step - loss: 0.0608 - acc: 1.0000 - val_loss: 0.0659 - val_acc: 1.0000\n",
            "Epoch 36/80\n",
            "2/2 [==============================] - 2s 993ms/step - loss: 0.0554 - acc: 1.0000 - val_loss: 0.0649 - val_acc: 1.0000\n",
            "Epoch 37/80\n",
            "2/2 [==============================] - 2s 1s/step - loss: 0.0549 - acc: 1.0000 - val_loss: 0.0642 - val_acc: 1.0000\n",
            "Epoch 38/80\n",
            "2/2 [==============================] - 2s 984ms/step - loss: 0.0495 - acc: 1.0000 - val_loss: 0.0632 - val_acc: 1.0000\n",
            "Epoch 39/80\n",
            "2/2 [==============================] - 2s 1s/step - loss: 0.0472 - acc: 1.0000 - val_loss: 0.0623 - val_acc: 1.0000\n",
            "Epoch 40/80\n",
            "2/2 [==============================] - 2s 998ms/step - loss: 0.0541 - acc: 1.0000 - val_loss: 0.0616 - val_acc: 1.0000\n",
            "Epoch 41/80\n",
            "2/2 [==============================] - 2s 985ms/step - loss: 0.0451 - acc: 1.0000 - val_loss: 0.0604 - val_acc: 1.0000\n",
            "Epoch 42/80\n",
            "2/2 [==============================] - 2s 1s/step - loss: 0.0522 - acc: 1.0000 - val_loss: 0.0592 - val_acc: 1.0000\n",
            "Epoch 43/80\n",
            "2/2 [==============================] - 2s 1s/step - loss: 0.0515 - acc: 0.9922 - val_loss: 0.0585 - val_acc: 1.0000\n",
            "Epoch 44/80\n",
            "2/2 [==============================] - 2s 1s/step - loss: 0.0519 - acc: 1.0000 - val_loss: 0.0577 - val_acc: 1.0000\n",
            "Epoch 45/80\n",
            "2/2 [==============================] - 2s 977ms/step - loss: 0.0501 - acc: 0.9922 - val_loss: 0.0570 - val_acc: 1.0000\n",
            "Epoch 46/80\n",
            "2/2 [==============================] - 2s 1s/step - loss: 0.0477 - acc: 1.0000 - val_loss: 0.0564 - val_acc: 1.0000\n",
            "Epoch 47/80\n",
            "2/2 [==============================] - 2s 997ms/step - loss: 0.0379 - acc: 1.0000 - val_loss: 0.0555 - val_acc: 1.0000\n",
            "Epoch 48/80\n",
            "2/2 [==============================] - 2s 979ms/step - loss: 0.0459 - acc: 1.0000 - val_loss: 0.0546 - val_acc: 1.0000\n",
            "Epoch 49/80\n",
            "2/2 [==============================] - 2s 997ms/step - loss: 0.0455 - acc: 1.0000 - val_loss: 0.0537 - val_acc: 1.0000\n",
            "Epoch 50/80\n",
            "2/2 [==============================] - 2s 1s/step - loss: 0.0570 - acc: 0.9766 - val_loss: 0.0531 - val_acc: 1.0000\n",
            "Epoch 51/80\n",
            "2/2 [==============================] - 2s 992ms/step - loss: 0.0332 - acc: 1.0000 - val_loss: 0.0524 - val_acc: 1.0000\n",
            "Epoch 52/80\n",
            "2/2 [==============================] - 2s 999ms/step - loss: 0.0529 - acc: 1.0000 - val_loss: 0.0519 - val_acc: 1.0000\n",
            "Epoch 53/80\n",
            "2/2 [==============================] - 2s 991ms/step - loss: 0.0525 - acc: 1.0000 - val_loss: 0.0514 - val_acc: 1.0000\n",
            "Epoch 54/80\n",
            "2/2 [==============================] - 2s 1s/step - loss: 0.0419 - acc: 1.0000 - val_loss: 0.0509 - val_acc: 1.0000\n",
            "Epoch 55/80\n",
            "2/2 [==============================] - 2s 994ms/step - loss: 0.0378 - acc: 1.0000 - val_loss: 0.0501 - val_acc: 1.0000\n",
            "Epoch 56/80\n",
            "2/2 [==============================] - 2s 1000ms/step - loss: 0.0418 - acc: 1.0000 - val_loss: 0.0491 - val_acc: 1.0000\n",
            "Epoch 57/80\n",
            "2/2 [==============================] - 2s 1s/step - loss: 0.0433 - acc: 1.0000 - val_loss: 0.0483 - val_acc: 1.0000\n",
            "Epoch 58/80\n",
            "2/2 [==============================] - 2s 1s/step - loss: 0.0316 - acc: 1.0000 - val_loss: 0.0476 - val_acc: 1.0000\n",
            "Epoch 59/80\n",
            "2/2 [==============================] - 2s 983ms/step - loss: 0.0360 - acc: 1.0000 - val_loss: 0.0469 - val_acc: 1.0000\n",
            "Epoch 60/80\n",
            "2/2 [==============================] - 2s 993ms/step - loss: 0.0409 - acc: 1.0000 - val_loss: 0.0468 - val_acc: 1.0000\n",
            "Epoch 61/80\n",
            "2/2 [==============================] - 2s 995ms/step - loss: 0.0308 - acc: 1.0000 - val_loss: 0.0465 - val_acc: 1.0000\n",
            "Epoch 62/80\n",
            "2/2 [==============================] - 2s 1s/step - loss: 0.0331 - acc: 1.0000 - val_loss: 0.0457 - val_acc: 1.0000\n",
            "Epoch 63/80\n",
            "2/2 [==============================] - 2s 1000ms/step - loss: 0.0377 - acc: 1.0000 - val_loss: 0.0448 - val_acc: 1.0000\n",
            "Epoch 64/80\n",
            "2/2 [==============================] - 2s 1s/step - loss: 0.0456 - acc: 1.0000 - val_loss: 0.0440 - val_acc: 1.0000\n",
            "Epoch 65/80\n",
            "2/2 [==============================] - 2s 1s/step - loss: 0.0326 - acc: 1.0000 - val_loss: 0.0434 - val_acc: 1.0000\n",
            "Epoch 66/80\n",
            "2/2 [==============================] - 2s 1s/step - loss: 0.0402 - acc: 1.0000 - val_loss: 0.0430 - val_acc: 1.0000\n",
            "Epoch 67/80\n",
            "2/2 [==============================] - 2s 996ms/step - loss: 0.0350 - acc: 1.0000 - val_loss: 0.0429 - val_acc: 1.0000\n",
            "Epoch 68/80\n",
            "2/2 [==============================] - 2s 1s/step - loss: 0.0319 - acc: 1.0000 - val_loss: 0.0426 - val_acc: 1.0000\n",
            "Epoch 69/80\n",
            "2/2 [==============================] - 2s 997ms/step - loss: 0.0409 - acc: 1.0000 - val_loss: 0.0426 - val_acc: 1.0000\n",
            "Epoch 70/80\n",
            "2/2 [==============================] - 2s 1s/step - loss: 0.0323 - acc: 1.0000 - val_loss: 0.0423 - val_acc: 1.0000\n",
            "Epoch 71/80\n",
            "2/2 [==============================] - 2s 1s/step - loss: 0.0384 - acc: 1.0000 - val_loss: 0.0415 - val_acc: 1.0000\n",
            "Epoch 72/80\n",
            "2/2 [==============================] - 2s 991ms/step - loss: 0.0349 - acc: 1.0000 - val_loss: 0.0402 - val_acc: 1.0000\n",
            "Epoch 73/80\n",
            "2/2 [==============================] - 2s 1s/step - loss: 0.0368 - acc: 1.0000 - val_loss: 0.0393 - val_acc: 1.0000\n",
            "Epoch 74/80\n",
            "2/2 [==============================] - 2s 1s/step - loss: 0.0302 - acc: 1.0000 - val_loss: 0.0385 - val_acc: 1.0000\n",
            "Epoch 75/80\n",
            "2/2 [==============================] - 2s 995ms/step - loss: 0.0307 - acc: 1.0000 - val_loss: 0.0381 - val_acc: 1.0000\n",
            "Epoch 76/80\n",
            "2/2 [==============================] - 2s 1s/step - loss: 0.0382 - acc: 1.0000 - val_loss: 0.0377 - val_acc: 1.0000\n",
            "Epoch 77/80\n",
            "2/2 [==============================] - 2s 978ms/step - loss: 0.0300 - acc: 1.0000 - val_loss: 0.0376 - val_acc: 1.0000\n",
            "Epoch 78/80\n",
            "2/2 [==============================] - 2s 1s/step - loss: 0.0378 - acc: 1.0000 - val_loss: 0.0376 - val_acc: 1.0000\n",
            "Epoch 79/80\n",
            "2/2 [==============================] - 2s 1s/step - loss: 0.0336 - acc: 1.0000 - val_loss: 0.0374 - val_acc: 1.0000\n",
            "Epoch 80/80\n",
            "2/2 [==============================] - 2s 1s/step - loss: 0.0275 - acc: 1.0000 - val_loss: 0.0369 - val_acc: 1.0000\n"
          ],
          "name": "stdout"
        }
      ]
    },
    {
      "cell_type": "code",
      "metadata": {
        "id": "Q1RtAVd2Bnw1",
        "colab_type": "code",
        "outputId": "0a595be7-bee4-4079-de26-cafff9e3d83d",
        "colab": {
          "base_uri": "https://localhost:8080/",
          "height": 573
        }
      },
      "source": [
        "# Plot training & validation accuracy values\n",
        "plt.plot(history.history['acc'])\n",
        "plt.plot(history.history['val_acc'])\n",
        "plt.title('Model accuracy')\n",
        "plt.ylabel('Accuracy')\n",
        "plt.xlabel('Epoch')\n",
        "plt.legend(['Train', 'Val'], loc='upper left')\n",
        "plt.show()\n",
        "\n",
        "# Plot training & validation loss values\n",
        "plt.plot(history.history['loss'])\n",
        "plt.plot(history.history['val_loss'])\n",
        "plt.title('Model loss')\n",
        "plt.ylabel('Loss')\n",
        "plt.xlabel('Epoch')\n",
        "plt.legend(['Train', 'Val'], loc='upper left')\n",
        "plt.show()"
      ],
      "execution_count": 22,
      "outputs": [
        {
          "output_type": "display_data",
          "data": {
            "image/png": "[encoded data removed]",
            "text/plain": [
              "<Figure size 432x288 with 1 Axes>"
            ]
          },
          "metadata": {
            "tags": []
          }
        },
        {
          "output_type": "display_data",
          "data": {
            "image/png": "[encoded data removed]",
            "text/plain": [
              "<Figure size 432x288 with 1 Axes>"
            ]
          },
          "metadata": {
            "tags": []
          }
        }
      ]
    },
    {
      "cell_type": "code",
      "metadata": {
        "id": "hxeGXnSap0oZ",
        "colab_type": "code",
        "colab": {
          "base_uri": "https://localhost:8080/",
          "height": 1000
        },
        "outputId": "bc8b36c4-00b2-4155-a54b-9be32064a9aa"
      },
      "source": [
        "'''# let's visualize layer names and layer indices to see how many layers\n",
        "# we should freeze:\n",
        "for i, layer in enumerate(base_model.layers):\n",
        "   print(i, layer.name)\n",
        "\n",
        "# we chose to train the top 2 inception blocks, i.e. we will freeze\n",
        "# the first 249 layers and unfreeze the rest:\n",
        "for layer in model.layers[:249]:\n",
        "   layer.trainable = False\n",
        "for layer in model.layers[249:]:\n",
        "   layer.trainable = True\n",
        "\n",
        "# we need to recompile the model for these modifications to take effect\n",
        "# we use SGD with a low learning rate\n",
        "model.compile(optimizer = tf.keras.optimizers.Adam(lr=1e-05), \n",
        "              loss='binary_crossentropy', \n",
        "              metrics=['acc'])\n",
        "\n",
        "history = model.fit(train_generator,\n",
        "                    epochs = 20,\n",
        "                    steps_per_epoch=len(X_train)/batch_size,\n",
        "                    validation_data=val_generator,\n",
        "                    validation_steps=len(X_val)/val_batch_size)'''"
      ],
      "execution_count": 15,
      "outputs": [
        {
          "output_type": "stream",
          "text": [
            "0 input_1\n",
            "1 conv2d\n",
            "2 batch_normalization\n",
            "3 activation\n",
            "4 conv2d_1\n",
            "5 batch_normalization_1\n",
            "6 activation_1\n",
            "7 conv2d_2\n",
            "8 batch_normalization_2\n",
            "9 activation_2\n",
            "10 max_pooling2d\n",
            "11 conv2d_3\n",
            "12 batch_normalization_3\n",
            "13 activation_3\n",
            "14 conv2d_4\n",
            "15 batch_normalization_4\n",
            "16 activation_4\n",
            "17 max_pooling2d_1\n",
            "18 conv2d_8\n",
            "19 batch_normalization_8\n",
            "20 activation_8\n",
            "21 conv2d_6\n",
            "22 conv2d_9\n",
            "23 batch_normalization_6\n",
            "24 batch_normalization_9\n",
            "25 activation_6\n",
            "26 activation_9\n",
            "27 average_pooling2d\n",
            "28 conv2d_5\n",
            "29 conv2d_7\n",
            "30 conv2d_10\n",
            "31 conv2d_11\n",
            "32 batch_normalization_5\n",
            "33 batch_normalization_7\n",
            "34 batch_normalization_10\n",
            "35 batch_normalization_11\n",
            "36 activation_5\n",
            "37 activation_7\n",
            "38 activation_10\n",
            "39 activation_11\n",
            "40 mixed0\n",
            "41 conv2d_15\n",
            "42 batch_normalization_15\n",
            "43 activation_15\n",
            "44 conv2d_13\n",
            "45 conv2d_16\n",
            "46 batch_normalization_13\n",
            "47 batch_normalization_16\n",
            "48 activation_13\n",
            "49 activation_16\n",
            "50 average_pooling2d_1\n",
            "51 conv2d_12\n",
            "52 conv2d_14\n",
            "53 conv2d_17\n",
            "54 conv2d_18\n",
            "55 batch_normalization_12\n",
            "56 batch_normalization_14\n",
            "57 batch_normalization_17\n",
            "58 batch_normalization_18\n",
            "59 activation_12\n",
            "60 activation_14\n",
            "61 activation_17\n",
            "62 activation_18\n",
            "63 mixed1\n",
            "64 conv2d_22\n",
            "65 batch_normalization_22\n",
            "66 activation_22\n",
            "67 conv2d_20\n",
            "68 conv2d_23\n",
            "69 batch_normalization_20\n",
            "70 batch_normalization_23\n",
            "71 activation_20\n",
            "72 activation_23\n",
            "73 average_pooling2d_2\n",
            "74 conv2d_19\n",
            "75 conv2d_21\n",
            "76 conv2d_24\n",
            "77 conv2d_25\n",
            "78 batch_normalization_19\n",
            "79 batch_normalization_21\n",
            "80 batch_normalization_24\n",
            "81 batch_normalization_25\n",
            "82 activation_19\n",
            "83 activation_21\n",
            "84 activation_24\n",
            "85 activation_25\n",
            "86 mixed2\n",
            "87 conv2d_27\n",
            "88 batch_normalization_27\n",
            "89 activation_27\n",
            "90 conv2d_28\n",
            "91 batch_normalization_28\n",
            "92 activation_28\n",
            "93 conv2d_26\n",
            "94 conv2d_29\n",
            "95 batch_normalization_26\n",
            "96 batch_normalization_29\n",
            "97 activation_26\n",
            "98 activation_29\n",
            "99 max_pooling2d_2\n",
            "100 mixed3\n",
            "101 conv2d_34\n",
            "102 batch_normalization_34\n",
            "103 activation_34\n",
            "104 conv2d_35\n",
            "105 batch_normalization_35\n",
            "106 activation_35\n",
            "107 conv2d_31\n",
            "108 conv2d_36\n",
            "109 batch_normalization_31\n",
            "110 batch_normalization_36\n",
            "111 activation_31\n",
            "112 activation_36\n",
            "113 conv2d_32\n",
            "114 conv2d_37\n",
            "115 batch_normalization_32\n",
            "116 batch_normalization_37\n",
            "117 activation_32\n",
            "118 activation_37\n",
            "119 average_pooling2d_3\n",
            "120 conv2d_30\n",
            "121 conv2d_33\n",
            "122 conv2d_38\n",
            "123 conv2d_39\n",
            "124 batch_normalization_30\n",
            "125 batch_normalization_33\n",
            "126 batch_normalization_38\n",
            "127 batch_normalization_39\n",
            "128 activation_30\n",
            "129 activation_33\n",
            "130 activation_38\n",
            "131 activation_39\n",
            "132 mixed4\n",
            "133 conv2d_44\n",
            "134 batch_normalization_44\n",
            "135 activation_44\n",
            "136 conv2d_45\n",
            "137 batch_normalization_45\n",
            "138 activation_45\n",
            "139 conv2d_41\n",
            "140 conv2d_46\n",
            "141 batch_normalization_41\n",
            "142 batch_normalization_46\n",
            "143 activation_41\n",
            "144 activation_46\n",
            "145 conv2d_42\n",
            "146 conv2d_47\n",
            "147 batch_normalization_42\n",
            "148 batch_normalization_47\n",
            "149 activation_42\n",
            "150 activation_47\n",
            "151 average_pooling2d_4\n",
            "152 conv2d_40\n",
            "153 conv2d_43\n",
            "154 conv2d_48\n",
            "155 conv2d_49\n",
            "156 batch_normalization_40\n",
            "157 batch_normalization_43\n",
            "158 batch_normalization_48\n",
            "159 batch_normalization_49\n",
            "160 activation_40\n",
            "161 activation_43\n",
            "162 activation_48\n",
            "163 activation_49\n",
            "164 mixed5\n",
            "165 conv2d_54\n",
            "166 batch_normalization_54\n",
            "167 activation_54\n",
            "168 conv2d_55\n",
            "169 batch_normalization_55\n",
            "170 activation_55\n",
            "171 conv2d_51\n",
            "172 conv2d_56\n",
            "173 batch_normalization_51\n",
            "174 batch_normalization_56\n",
            "175 activation_51\n",
            "176 activation_56\n",
            "177 conv2d_52\n",
            "178 conv2d_57\n",
            "179 batch_normalization_52\n",
            "180 batch_normalization_57\n",
            "181 activation_52\n",
            "182 activation_57\n",
            "183 average_pooling2d_5\n",
            "184 conv2d_50\n",
            "185 conv2d_53\n",
            "186 conv2d_58\n",
            "187 conv2d_59\n",
            "188 batch_normalization_50\n",
            "189 batch_normalization_53\n",
            "190 batch_normalization_58\n",
            "191 batch_normalization_59\n",
            "192 activation_50\n",
            "193 activation_53\n",
            "194 activation_58\n",
            "195 activation_59\n",
            "196 mixed6\n",
            "197 conv2d_64\n",
            "198 batch_normalization_64\n",
            "199 activation_64\n",
            "200 conv2d_65\n",
            "201 batch_normalization_65\n",
            "202 activation_65\n",
            "203 conv2d_61\n",
            "204 conv2d_66\n",
            "205 batch_normalization_61\n",
            "206 batch_normalization_66\n",
            "207 activation_61\n",
            "208 activation_66\n",
            "209 conv2d_62\n",
            "210 conv2d_67\n",
            "211 batch_normalization_62\n",
            "212 batch_normalization_67\n",
            "213 activation_62\n",
            "214 activation_67\n",
            "215 average_pooling2d_6\n",
            "216 conv2d_60\n",
            "217 conv2d_63\n",
            "218 conv2d_68\n",
            "219 conv2d_69\n",
            "220 batch_normalization_60\n",
            "221 batch_normalization_63\n",
            "222 batch_normalization_68\n",
            "223 batch_normalization_69\n",
            "224 activation_60\n",
            "225 activation_63\n",
            "226 activation_68\n",
            "227 activation_69\n",
            "228 mixed7\n",
            "229 conv2d_72\n",
            "230 batch_normalization_72\n",
            "231 activation_72\n",
            "232 conv2d_73\n",
            "233 batch_normalization_73\n",
            "234 activation_73\n",
            "235 conv2d_70\n",
            "236 conv2d_74\n",
            "237 batch_normalization_70\n",
            "238 batch_normalization_74\n",
            "239 activation_70\n",
            "240 activation_74\n",
            "241 conv2d_71\n",
            "242 conv2d_75\n",
            "243 batch_normalization_71\n",
            "244 batch_normalization_75\n",
            "245 activation_71\n",
            "246 activation_75\n",
            "247 max_pooling2d_3\n",
            "248 mixed8\n",
            "249 conv2d_80\n",
            "250 batch_normalization_80\n",
            "251 activation_80\n",
            "252 conv2d_77\n",
            "253 conv2d_81\n",
            "254 batch_normalization_77\n",
            "255 batch_normalization_81\n",
            "256 activation_77\n",
            "257 activation_81\n",
            "258 conv2d_78\n",
            "259 conv2d_79\n",
            "260 conv2d_82\n",
            "261 conv2d_83\n",
            "262 average_pooling2d_7\n",
            "263 conv2d_76\n",
            "264 batch_normalization_78\n",
            "265 batch_normalization_79\n",
            "266 batch_normalization_82\n",
            "267 batch_normalization_83\n",
            "268 conv2d_84\n",
            "269 batch_normalization_76\n",
            "270 activation_78\n",
            "271 activation_79\n",
            "272 activation_82\n",
            "273 activation_83\n",
            "274 batch_normalization_84\n",
            "275 activation_76\n",
            "276 mixed9_0\n",
            "277 concatenate\n",
            "278 activation_84\n",
            "279 mixed9\n",
            "280 conv2d_89\n",
            "281 batch_normalization_89\n",
            "282 activation_89\n",
            "283 conv2d_86\n",
            "284 conv2d_90\n",
            "285 batch_normalization_86\n",
            "286 batch_normalization_90\n",
            "287 activation_86\n",
            "288 activation_90\n",
            "289 conv2d_87\n",
            "290 conv2d_88\n",
            "291 conv2d_91\n",
            "292 conv2d_92\n",
            "293 average_pooling2d_8\n",
            "294 conv2d_85\n",
            "295 batch_normalization_87\n",
            "296 batch_normalization_88\n",
            "297 batch_normalization_91\n",
            "298 batch_normalization_92\n",
            "299 conv2d_93\n",
            "300 batch_normalization_85\n",
            "301 activation_87\n",
            "302 activation_88\n",
            "303 activation_91\n",
            "304 activation_92\n",
            "305 batch_normalization_93\n",
            "306 activation_85\n",
            "307 mixed9_1\n",
            "308 concatenate_1\n",
            "309 activation_93\n",
            "310 mixed10\n",
            "Epoch 1/20\n",
            "2/2 [==============================] - 3s 2s/step - loss: 0.6615 - acc: 0.6016 - val_loss: 0.6000 - val_acc: 0.6875\n",
            "Epoch 2/20\n",
            "2/2 [==============================] - 2s 1s/step - loss: 0.6092 - acc: 0.7109 - val_loss: 0.5836 - val_acc: 0.6875\n",
            "Epoch 3/20\n",
            "2/2 [==============================] - 2s 1s/step - loss: 0.5859 - acc: 0.7109 - val_loss: 0.5731 - val_acc: 0.6875\n",
            "Epoch 4/20\n",
            "2/2 [==============================] - 2s 1s/step - loss: 0.5221 - acc: 0.8516 - val_loss: 0.5689 - val_acc: 0.6875\n",
            "Epoch 5/20\n",
            "2/2 [==============================] - 2s 1s/step - loss: 0.4954 - acc: 0.8672 - val_loss: 0.5685 - val_acc: 0.6875\n",
            "Epoch 6/20\n",
            "2/2 [==============================] - 2s 1s/step - loss: 0.4612 - acc: 0.9062 - val_loss: 0.5721 - val_acc: 0.6875\n",
            "Epoch 7/20\n",
            "2/2 [==============================] - 2s 1s/step - loss: 0.4567 - acc: 0.8828 - val_loss: 0.5779 - val_acc: 0.6875\n",
            "Epoch 8/20\n",
            "2/2 [==============================] - 2s 1s/step - loss: 0.4233 - acc: 0.9375 - val_loss: 0.5851 - val_acc: 0.6875\n",
            "Epoch 9/20\n",
            "2/2 [==============================] - 2s 1s/step - loss: 0.3984 - acc: 0.9531 - val_loss: 0.5937 - val_acc: 0.6875\n",
            "Epoch 10/20\n",
            "2/2 [==============================] - 2s 1s/step - loss: 0.3591 - acc: 0.9844 - val_loss: 0.6028 - val_acc: 0.6875\n",
            "Epoch 11/20\n",
            "2/2 [==============================] - 2s 1s/step - loss: 0.3677 - acc: 0.9531 - val_loss: 0.6122 - val_acc: 0.6250\n",
            "Epoch 12/20\n",
            "2/2 [==============================] - 2s 1s/step - loss: 0.3402 - acc: 0.9766 - val_loss: 0.6213 - val_acc: 0.6250\n",
            "Epoch 13/20\n",
            "2/2 [==============================] - 2s 1s/step - loss: 0.3578 - acc: 0.9375 - val_loss: 0.6263 - val_acc: 0.6250\n",
            "Epoch 14/20\n",
            "2/2 [==============================] - 2s 999ms/step - loss: 0.3213 - acc: 0.9922 - val_loss: 0.6318 - val_acc: 0.6250\n",
            "Epoch 15/20\n",
            "2/2 [==============================] - 2s 1s/step - loss: 0.2996 - acc: 0.9844 - val_loss: 0.6345 - val_acc: 0.6250\n",
            "Epoch 16/20\n",
            "2/2 [==============================] - 2s 992ms/step - loss: 0.3246 - acc: 0.9688 - val_loss: 0.6378 - val_acc: 0.6250\n",
            "Epoch 17/20\n",
            "2/2 [==============================] - 2s 1s/step - loss: 0.2768 - acc: 1.0000 - val_loss: 0.6393 - val_acc: 0.6250\n",
            "Epoch 18/20\n",
            "2/2 [==============================] - 2s 1s/step - loss: 0.3023 - acc: 0.9844 - val_loss: 0.6427 - val_acc: 0.6250\n",
            "Epoch 19/20\n",
            "2/2 [==============================] - 2s 1s/step - loss: 0.2849 - acc: 0.9922 - val_loss: 0.6434 - val_acc: 0.6250\n",
            "Epoch 20/20\n",
            "2/2 [==============================] - 2s 1s/step - loss: 0.2745 - acc: 0.9844 - val_loss: 0.6425 - val_acc: 0.6250\n"
          ],
          "name": "stdout"
        }
      ]
    },
    {
      "cell_type": "markdown",
      "metadata": {
        "id": "T_eGa2WoFTbq",
        "colab_type": "text"
      },
      "source": [
        "We can plot the accuracy and loss against the epochs to see how the model evolved:"
      ]
    },
    {
      "cell_type": "markdown",
      "metadata": {
        "id": "rHtZJ_cJGVoQ",
        "colab_type": "text"
      },
      "source": [
        "Finally, we can test the newly created model on the test data. The positive samples should be labeled as 1, while the negative samples should be labeled as 0. Let's try:"
      ]
    },
    {
      "cell_type": "code",
      "metadata": {
        "id": "-WFNSP0aA01I",
        "colab_type": "code",
        "colab": {
          "base_uri": "https://localhost:8080/",
          "height": 301
        },
        "outputId": "e2c4b985-b6ec-46f1-d1a0-b2eb952b63ee"
      },
      "source": [
        "covid = [tf.keras.preprocessing.image.img_to_array(x) for x in covid]\n",
        "not_covid = [tf.keras.preprocessing.image.img_to_array(x) for x in not_covid]\n",
        "covid = np.asarray(covid)\n",
        "not_covid = np.asarray(not_covid)\n",
        "\n",
        "covid_test = np.around(model.predict(covid/255))\n",
        "print(covid_test)\n",
        "\n",
        "not_covid_test =np.around(model.predict(not_covid/255))\n",
        "print(not_covid_test)\n"
      ],
      "execution_count": 39,
      "outputs": [
        {
          "output_type": "stream",
          "text": [
            "[[1.]\n",
            " [1.]\n",
            " [1.]\n",
            " [1.]\n",
            " [1.]\n",
            " [1.]\n",
            " [1.]]\n",
            "[[0.]\n",
            " [0.]\n",
            " [0.]\n",
            " [0.]\n",
            " [0.]\n",
            " [0.]\n",
            " [0.]\n",
            " [0.]\n",
            " [0.]]\n"
          ],
          "name": "stdout"
        }
      ]
    },
    {
      "cell_type": "markdown",
      "metadata": {
        "id": "3PLgN-RsYqOI",
        "colab_type": "text"
      },
      "source": [
        "If everything went as expected, you should see a list of 1s and a list of 0s. If not, well, no model is perfect. Feel free to experiment with different parameters, NN architectures and image augmetations, and if you see an improvement over my model, I'll be more than happy to know how you did!"
      ]
    }
  ]
}